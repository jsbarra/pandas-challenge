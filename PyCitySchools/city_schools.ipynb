{
 "cells": [
  {
   "cell_type": "code",
   "execution_count": 41,
   "metadata": {},
   "outputs": [],
   "source": [
    "#Import dependencies\n",
    "\n",
    "import pandas as pd\n",
    "import numpy as np\n"
   ]
  },
  {
   "cell_type": "code",
   "execution_count": 42,
   "metadata": {},
   "outputs": [],
   "source": [
    "#Upload CSV File and Read\n",
    "\n",
    "school_data = \"Resources/schools_complete.csv\"\n",
    "student_data = \"Resources/students_complete.csv\"\n",
    "\n",
    "school_df = pd.read_csv(school_data)\n",
    "student_df = pd.read_csv(student_data)\n"
   ]
  },
  {
   "cell_type": "code",
   "execution_count": 43,
   "metadata": {},
   "outputs": [
    {
     "data": {
      "text/plain": [
       "65.17232575950983"
      ]
     },
     "execution_count": 43,
     "metadata": {},
     "output_type": "execute_result"
    }
   ],
   "source": [
    "#Find District Summary\n",
    "\n",
    "#Total Schools\n",
    "total_schools = school_df[\"school_name\"].count()\n",
    "\n",
    "#Total Students\n",
    "total_students = student_df[\"Student ID\"].count()\n",
    "\n",
    "#Total Budget\n",
    "total_budget = school_df[\"budget\"].sum()\n",
    "\n",
    "#Average Math Score\n",
    "average_math_score = student_df[\"math_score\"].mean()\n",
    "\n",
    "#Average Reading Score\n",
    "average_reading_score = student_df[\"reading_score\"].mean()\n",
    "\n",
    "# % of Students Passing Math\n",
    "\n",
    "count_passing_math = student_df.loc[(student_df[\"math_score\"] >= 70)].count()[\"student_name\"]\n",
    "percentage_passing_math = (count_passing_math/total_students)*100\n",
    "\n",
    "\n",
    "# # % of Students Passing Reading\n",
    "\n",
    "count_passing_reading = student_df.loc[(student_df[\"reading_score\"] >= 70)].count()[\"student_name\"]\n",
    "percentage_passing_reading = (count_passing_reading/total_students)*100\n",
    "\n",
    "# # % of Students Passing Math and Reading\n",
    "\n",
    "count_passing_math_reading = student_df.loc[(student_df[\"math_score\"] >= 70) & (student_df[\"reading_score\"] >= 70)].count()[\"student_name\"]\n",
    "overall_passing_math_reading_percentage = (count_passing_math_reading/total_students) * 100\n",
    "overall_passing_math_reading_percentage                                                  \n"
   ]
  },
  {
   "cell_type": "code",
   "execution_count": 44,
   "metadata": {},
   "outputs": [
    {
     "data": {
      "text/html": [
       "<div>\n",
       "<style scoped>\n",
       "    .dataframe tbody tr th:only-of-type {\n",
       "        vertical-align: middle;\n",
       "    }\n",
       "\n",
       "    .dataframe tbody tr th {\n",
       "        vertical-align: top;\n",
       "    }\n",
       "\n",
       "    .dataframe thead th {\n",
       "        text-align: right;\n",
       "    }\n",
       "</style>\n",
       "<table border=\"1\" class=\"dataframe\">\n",
       "  <thead>\n",
       "    <tr style=\"text-align: right;\">\n",
       "      <th></th>\n",
       "      <th>Total Schools</th>\n",
       "      <th>Total Students</th>\n",
       "      <th>Total Budget</th>\n",
       "      <th>Average Math Score</th>\n",
       "      <th>Average Reading Score</th>\n",
       "      <th>Percentage Passing Math</th>\n",
       "      <th>Percentage Passing Reading</th>\n",
       "      <th>Percentage Passing Math and Science(Overall)</th>\n",
       "    </tr>\n",
       "  </thead>\n",
       "  <tbody>\n",
       "    <tr>\n",
       "      <th>0</th>\n",
       "      <td>15</td>\n",
       "      <td>39,170</td>\n",
       "      <td>24,649,428.00</td>\n",
       "      <td>78.985371</td>\n",
       "      <td>81.87784</td>\n",
       "      <td>74.980853</td>\n",
       "      <td>85.805463</td>\n",
       "      <td>65.172326</td>\n",
       "    </tr>\n",
       "  </tbody>\n",
       "</table>\n",
       "</div>"
      ],
      "text/plain": [
       "   Total Schools Total Students   Total Budget  Average Math Score  \\\n",
       "0             15         39,170  24,649,428.00           78.985371   \n",
       "\n",
       "   Average Reading Score  Percentage Passing Math  Percentage Passing Reading  \\\n",
       "0               81.87784                74.980853                   85.805463   \n",
       "\n",
       "   Percentage Passing Math and Science(Overall)  \n",
       "0                                     65.172326  "
      ]
     },
     "execution_count": 44,
     "metadata": {},
     "output_type": "execute_result"
    }
   ],
   "source": [
    "#Create District Summary Table\n",
    "\n",
    "district_summary = pd.DataFrame({\"Total Schools\":[total_schools], \"Total Students\": [total_students], \n",
    "                                 \"Total Budget\":[total_budget], \"Average Math Score\": [average_math_score], \n",
    "                                \"Average Reading Score\": [average_reading_score], \"Percentage Passing Math\": [percentage_passing_math],\n",
    "                                \"Percentage Passing Reading\":[percentage_passing_reading], \"Percentage Passing Math and Science(Overall)\": [overall_passing_math_reading_percentage]})\n",
    "\n",
    "# Add commas,$,% to table\n",
    "\n",
    "district_summary[\"Total Students\"] = district_summary[\"Total Students\"].map(\"{:,}\".format)\n",
    "district_summary[\"Total Budget\"] = district_summary[\"Total Budget\"].map(\"{:,.2f}\".format)\n",
    "\n",
    "district_summary"
   ]
  },
  {
   "cell_type": "code",
   "execution_count": 46,
   "metadata": {},
   "outputs": [
    {
     "data": {
      "text/plain": [
       "Bailey High School       54.642283\n",
       "Cabrera High School      91.334769\n",
       "Figueroa High School     53.204476\n",
       "Ford High School         54.289887\n",
       "Griffin High School      90.599455\n",
       "Hernandez High School    53.527508\n",
       "Holden High School       89.227166\n",
       "Huang High School        53.513884\n",
       "Johnson High School      53.539172\n",
       "Pena High School         90.540541\n",
       "Rodriguez High School    52.988247\n",
       "Shelton High School      89.892107\n",
       "Thomas High School       90.948012\n",
       "Wilson High School       90.582567\n",
       "Wright High School       90.333333\n",
       "dtype: float64"
      ]
     },
     "execution_count": 46,
     "metadata": {},
     "output_type": "execute_result"
    }
   ],
   "source": [
    "#Find Per School Summary\n",
    "\n",
    "#School Types\n",
    "school_types = school_df.set_index([\"school_name\"])[\"type\"]\n",
    "\n",
    "#Total Students - Students Per School\n",
    "students_per_school = student_df[\"school_name\"].value_counts()\n",
    "\n",
    "#Total Budget Per School\n",
    "school_budget = school_df.groupby([\"school_name\"])[\"budget\"].sum()\n",
    "\n",
    "#Total Budget Per Student\n",
    "budget_per_student = school_budget / students_per_school\n",
    "\n",
    "#Average Math Score By School\n",
    "average_math_score_by_school = student_df.groupby([\"school_name\"])[\"math_score\"].mean()\n",
    "\n",
    "#Average Reading Score By School\n",
    "average_reading_score_by_school = student_df.groupby([\"school_name\"])[\"reading_score\"].mean()\n",
    "\n",
    "#Percentage Passing Math By School\n",
    "\n",
    "passing_math = student_df.loc[(student_df[\"math_score\"] >= 70)]\n",
    "count_passing_math_by_school = passing_math.groupby([\"school_name\"]).count()[\"student_name\"] \n",
    "percentage_passing_math_by_school = (count_passing_math_by_school/students_per_school) * 100\n",
    "\n",
    "#Percentage Passing Reading By School\n",
    "\n",
    "passing_reading = student_df.loc[(student_df[\"reading_score\"] >= 70)]\n",
    "count_passing_reading_by_school = passing_reading.groupby([\"school_name\"]).count()[\"student_name\"]\n",
    "percentage_passing_reading_by_school = (count_passing_reading_by_school/students_per_school) * 100\n",
    "\n",
    "# % of Students Passing Math and Reading By School\n",
    "\n",
    "passing_math_reading = student_df.loc[(student_df[\"math_score\"] >= 70) & (student_df[\"reading_score\"] >= 70)]\n",
    "count_passing_math_reading_by_school = passing_math_reading.groupby([\"school_name\"]).count()[\"student_name\"]\n",
    "percentage_passing_math_reading_by_school = (count_passing_math_reading_by_school/students_per_school) * 100\n",
    "\n",
    "percentage_passing_math_reading_by_school\n",
    "\n",
    "# count_passing_math_by_school\n",
    "\n",
    "# percentage_passing_math_by_school = count_passing_math_by_school.groupby([\"school_name\"]).count()[\"\"]\n",
    "\n",
    "\n",
    "# count_passing_reading = student_df.loc[(student_df[\"reading_score\"] >= 70)].count()[\"student_name\"]\n",
    "# percentage_passing_reading = (count_passing_reading/total_students)*100\n",
    "\n",
    "\n",
    "\n",
    "\n",
    "\n",
    "# count_passing_reading = student_df.loc[(student_df[\"reading_score\"] >= 70)].count()[\"student_name\"]\n",
    "# percentage_passing_reading = (count_passing_reading/total_students)*100"
   ]
  },
  {
   "cell_type": "code",
   "execution_count": null,
   "metadata": {},
   "outputs": [],
   "source": []
  }
 ],
 "metadata": {
  "kernelspec": {
   "display_name": "Python 3",
   "language": "python",
   "name": "python3"
  },
  "language_info": {
   "codemirror_mode": {
    "name": "ipython",
    "version": 3
   },
   "file_extension": ".py",
   "mimetype": "text/x-python",
   "name": "python",
   "nbconvert_exporter": "python",
   "pygments_lexer": "ipython3",
   "version": "3.8.3"
  }
 },
 "nbformat": 4,
 "nbformat_minor": 4
}
